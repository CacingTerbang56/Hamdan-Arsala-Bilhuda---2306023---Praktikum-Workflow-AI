{
  "nbformat": 4,
  "nbformat_minor": 0,
  "metadata": {
    "colab": {
      "provenance": []
    },
    "kernelspec": {
      "name": "python3",
      "display_name": "Python 3"
    },
    "language_info": {
      "name": "python"
    }
  },
  "cells": [
    {
      "cell_type": "code",
      "execution_count": null,
      "metadata": {
        "colab": {
          "base_uri": "https://localhost:8080/"
        },
        "id": "3ZjKh6GsYzO2",
        "outputId": "99b122ce-e6c2-47b2-8239-16dca39562f8"
      },
      "outputs": [
        {
          "output_type": "stream",
          "name": "stdout",
          "text": [
            "Collecting experta\n",
            "  Downloading experta-1.9.4-py3-none-any.whl.metadata (5.0 kB)\n",
            "Collecting frozendict==1.2 (from experta)\n",
            "  Downloading frozendict-1.2.tar.gz (2.6 kB)\n",
            "  Preparing metadata (setup.py) ... \u001b[?25l\u001b[?25hdone\n",
            "Collecting schema==0.6.7 (from experta)\n",
            "  Downloading schema-0.6.7-py2.py3-none-any.whl.metadata (14 kB)\n",
            "Downloading experta-1.9.4-py3-none-any.whl (35 kB)\n",
            "Downloading schema-0.6.7-py2.py3-none-any.whl (14 kB)\n",
            "Building wheels for collected packages: frozendict\n",
            "  Building wheel for frozendict (setup.py) ... \u001b[?25l\u001b[?25hdone\n",
            "  Created wheel for frozendict: filename=frozendict-1.2-py3-none-any.whl size=3149 sha256=0eff6efa4a97b0eced7773480735b959b35ba007bb65db9aa77d0df9dc13726c\n",
            "  Stored in directory: /root/.cache/pip/wheels/49/ac/f8/cb8120244e710bdb479c86198b03c7b08c3c2d3d2bf448fd6e\n",
            "Successfully built frozendict\n",
            "Installing collected packages: schema, frozendict, experta\n",
            "  Attempting uninstall: frozendict\n",
            "    Found existing installation: frozendict 2.4.6\n",
            "    Uninstalling frozendict-2.4.6:\n",
            "      Successfully uninstalled frozendict-2.4.6\n",
            "\u001b[31mERROR: pip's dependency resolver does not currently take into account all the packages that are installed. This behaviour is the source of the following dependency conflicts.\n",
            "yfinance 0.2.55 requires frozendict>=2.3.4, but you have frozendict 1.2 which is incompatible.\u001b[0m\u001b[31m\n",
            "\u001b[0mSuccessfully installed experta-1.9.4 frozendict-1.2 schema-0.6.7\n"
          ]
        }
      ],
      "source": [
        "!pip install experta"
      ]
    },
    {
      "cell_type": "code",
      "source": [
        "!pip install --upgrade frozendict"
      ],
      "metadata": {
        "colab": {
          "base_uri": "https://localhost:8080/"
        },
        "id": "zKfWjkW9ZrwM",
        "outputId": "daa779a6-9daa-49bf-ba2a-990d5ebc510c"
      },
      "execution_count": null,
      "outputs": [
        {
          "output_type": "stream",
          "name": "stdout",
          "text": [
            "Requirement already satisfied: frozendict in /usr/local/lib/python3.11/dist-packages (1.2)\n",
            "Collecting frozendict\n",
            "  Downloading frozendict-2.4.6-py311-none-any.whl.metadata (23 kB)\n",
            "Downloading frozendict-2.4.6-py311-none-any.whl (16 kB)\n",
            "Installing collected packages: frozendict\n",
            "  Attempting uninstall: frozendict\n",
            "    Found existing installation: frozendict 1.2\n",
            "    Uninstalling frozendict-1.2:\n",
            "      Successfully uninstalled frozendict-1.2\n",
            "\u001b[31mERROR: pip's dependency resolver does not currently take into account all the packages that are installed. This behaviour is the source of the following dependency conflicts.\n",
            "experta 1.9.4 requires frozendict==1.2, but you have frozendict 2.4.6 which is incompatible.\u001b[0m\u001b[31m\n",
            "\u001b[0mSuccessfully installed frozendict-2.4.6\n"
          ]
        }
      ]
    },
    {
      "cell_type": "code",
      "source": [
        "from experta import *\n",
        "\n",
        "class Diagnosis(KnowledgeEngine):\n",
        "    @Rule(Fact(cough=True) & Fact(fever=True)& Fact(fatigue=True))\n",
        "    def flu(self):\n",
        "      print(\"diagnosis=anda flu\")\n",
        "\n",
        "    @Rule(Fact(cough=True) & Fact(fever=True)& Fact(breathing_difficulty=True))\n",
        "    def pneumonia(self):\n",
        "      print(\"diagnosis=anda pneumonia\")\n",
        "\n",
        "    @Rule(Fact(sneezing=True) & Fact(runny_nose=True)& Fact(cough=False))\n",
        "    def covid(self):\n",
        "      print(\"diagnosis=anda covid\")\n",
        "\n",
        "    @Rule(Fact(sore_throat=True) & Fact(fever=True))\n",
        "    def throat_infection(self):\n",
        "      print(\"diagnosis=anda infeksi tenggorokan\")\n",
        "\n",
        "    @Rule(Fact(cough=False) & Fact(fever=False)& Fact(fatigue=False))\n",
        "    def healty(self):\n",
        "      print(\"diagnosis=anda kanker\")\n",
        "\n",
        "\n",
        "\n",
        "def get_input():\n",
        "    \"\"\"Helper function to get user input as boolean (yes/no).\"\"\"\n",
        "    def ask_question(question):\n",
        "      return input(question + \"(yes/no):\").strip().lower()==\"yes\"\n",
        "\n",
        "    return {\n",
        "      \"cough\": ask_question(\"Apakah anda batuk?\"),\n",
        "      \"fever\": ask_question(\"Apakah anda demam?\"),\n",
        "      \"fatigue\": ask_question(\"Apakah anda lelah?\"),\n",
        "      \"breathing_difficulty\": ask_question(\"Apakah anda kesulitan bernafas?\"),\n",
        "      \"sneezing\": ask_question(\"Apakah anda bersin?\"),\n",
        "      \"runny_nose\": ask_question(\"Apakah anda pilek?\"),\n",
        "      \"sore_throat\": ask_question(\"Apakah anda sakit tenggorokan?\")\n",
        "    }\n",
        "\n",
        "\n",
        "if __name__ == \"__main__\":\n",
        "  symptoms = get_input()\n",
        "  engine = Diagnosis()\n",
        "  engine.reset()\n",
        "\n",
        "  for symptom,present in symptoms.items():\n",
        "    engine.declare(Fact(**{symptom:present}))\n",
        "\n",
        "  engine.run()"
      ],
      "metadata": {
        "colab": {
          "base_uri": "https://localhost:8080/"
        },
        "id": "W3jgaB5MaTor",
        "outputId": "fec6461d-8698-42cd-a4cb-2053ec2579f9"
      },
      "execution_count": null,
      "outputs": [
        {
          "output_type": "stream",
          "name": "stdout",
          "text": [
            "Apakah anda batuk?(yes/no):no\n",
            "Apakah anda demam?(yes/no):no\n",
            "Apakah anda lelah?(yes/no):no\n",
            "Apakah anda kesulitan bernafas?(yes/no):no\n",
            "Apakah anda bersin?(yes/no):no\n",
            "Apakah anda pilek?(yes/no):no\n",
            "Apakah anda sakit tenggorokan?(yes/no):no\n",
            "diagnosis=anda kanker\n"
          ]
        }
      ]
    },
    {
      "cell_type": "markdown",
      "source": [],
      "metadata": {
        "id": "EFzXaZhnl2Dn"
      }
    },
    {
      "cell_type": "code",
      "source": [
        "from experta import *\n",
        "\n",
        "class Diagnosis(KnowledgeEngine):\n",
        "    @Rule(Fact(demam=True) & Fact(batuk=True))\n",
        "    def flu(self):\n",
        "      print(\"diagnosis=anda flu\")\n",
        "\n",
        "    @Rule(Fact(sakit_tenggorokan=True) & Fact(demam=True))\n",
        "    def throat_infection(self):\n",
        "      print(\"diagnosis=anda radang tenggorokan\")\n",
        "\n",
        "    @Rule(Fact(nyeri_otot=True) & Fact(nyeri_perut=True))\n",
        "    def hernia(self):\n",
        "      print(\"diagnosis=anda hernia\")\n",
        "\n",
        "engine = Diagnosis()\n",
        "engine.reset()\n",
        "engine.declare(Fact(demam=True))\n",
        "engine.declare(Fact(batuk=True))\n",
        "\n",
        "engine.run()"
      ],
      "metadata": {
        "colab": {
          "base_uri": "https://localhost:8080/"
        },
        "id": "v4ebLRoml7m3",
        "outputId": "6f8f2886-aff1-423b-f5c2-0d09f6e6ddd3"
      },
      "execution_count": null,
      "outputs": [
        {
          "output_type": "stream",
          "name": "stdout",
          "text": [
            "diagnosis=anda flu\n"
          ]
        }
      ]
    },
    {
      "cell_type": "code",
      "source": [
        "def forward_chaining(facts, rules):\n",
        "    inferred_facts = set(facts) # inferred_facts is initialized here\n",
        "    changed = True\n",
        "    while changed:\n",
        "      changed = False\n",
        "      for rule in rules:\n",
        "        # Use inferred_facts instead of inferred\n",
        "        if rule[\"if\"].issubset(inferred_facts) and rule[\"then\"] not in inferred_facts:\n",
        "          inferred_facts.add(rule[\"then\"])\n",
        "          changed = True\n",
        "    return inferred_facts # Return inferred_facts\n",
        "\n",
        "facts = {\"has_feathers\", \"has_beak\", \"carnivore\"}\n",
        "rules = [\n",
        "      {\"if\": {\"has_feathers\", \"has_beak\"}, \"then\": \"is_bird\"},\n",
        "      {\"if\": {\"lays_egg\", \"is_bird\"}, \"then\": \"is_chicken\"},\n",
        "      {\"if\": {\"cannot_fly\", \"is_bird\"}, \"then\": \"is_penguijn\"},\n",
        "      {\"if\": {\"carnivore\", \"is_bird\"}, \"then\": \"is_eagle\"},\n",
        "  ]\n",
        "\n",
        "result = forward_chaining(facts, rules)\n",
        "print(\"Inferred facts:\", result)"
      ],
      "metadata": {
        "colab": {
          "base_uri": "https://localhost:8080/"
        },
        "id": "b-45jh4qqCLc",
        "outputId": "edf2b697-be36-438c-e104-04b1cda82d93"
      },
      "execution_count": null,
      "outputs": [
        {
          "output_type": "stream",
          "name": "stdout",
          "text": [
            "Inferred facts: {'carnivore', 'is_eagle', 'is_bird', 'has_beak', 'has_feathers'}\n"
          ]
        }
      ]
    },
    {
      "cell_type": "code",
      "source": [],
      "metadata": {
        "id": "UdSK1TxJyOJ7"
      },
      "execution_count": null,
      "outputs": []
    },
    {
      "cell_type": "code",
      "source": [
        "def backward_chaining(goal, facts, rules):\n",
        "  if goal in facts:\n",
        "    return True\n",
        "  for rule in rules:\n",
        "    if rule[\"then\"]==goal:\n",
        "      # Check if all conditions in the rule are provable using recursion,\n",
        "      # but make sure to pass the condition (cond) as the new goal\n",
        "      # in the recursive calls and check against the facts.\n",
        "      if all(backward_chaining(cond, facts, rules) for cond in rule[\"if\"]):\n",
        "        return True\n",
        "  return False\n",
        "\n",
        "facts = {\"like_computers\", \"solve_problems\", \"likes_to_design\"}\n",
        "rules = [\n",
        "      {\"if\": {\"like_computers\", \"solve_problems\"}, \"then\": \"engineer\"},\n",
        "      {\"if\": {\"engineer\", \"likes_programming\"}, \"then\": \"software_engineer\"},\n",
        "      {\"if\": {\"engineer\", \"likes_to_design\"}, \"then\": \"UI/UX_designer\"},\n",
        "  ]\n",
        "goal = \"UI/UX_designer\"\n",
        "result = backward_chaining(goal, facts, rules)\n",
        "print(f\"is'{goal}'provable? ->\",result)"
      ],
      "metadata": {
        "colab": {
          "base_uri": "https://localhost:8080/"
        },
        "id": "VPsHjepft_wI",
        "outputId": "d99d9c49-3638-4020-d3c2-3f05fddfb3e8"
      },
      "execution_count": null,
      "outputs": [
        {
          "output_type": "stream",
          "name": "stdout",
          "text": [
            "is'UI/UX_designer'provable? -> True\n"
          ]
        }
      ]
    },
    {
      "cell_type": "code",
      "source": [
        "def forward_chaining(facts, rules):\n",
        "    inferred_facts = set(facts) # inferred_facts is initialized here\n",
        "    changed = True\n",
        "    while changed:\n",
        "      changed = False\n",
        "      for rule in rules:\n",
        "        # Use inferred_facts instead of inferred\n",
        "        if rule[\"if\"].issubset(inferred_facts) and rule[\"then\"] not in inferred_facts:\n",
        "          inferred_facts.add(rule[\"then\"])\n",
        "          changed = True\n",
        "    return inferred_facts # Return inferred_facts\n",
        "\n",
        "facts = {\"has_wheels\", \"has_engine\", \"has_four_wheels\"}\n",
        "rules = [\n",
        "      {\"if\": {\"has_wheels\", \"has_engine\"}, \"then\": \"is_vehicle\"},\n",
        "      {\"if\": {\"is_vehicle\", \"has_two_wheels\"}, \"then\": \"is_motor\"},\n",
        "      {\"if\": {\"is_vehicle\", \"has_four_wheels\"}, \"then\": \"is_mobil\"},\n",
        "  ]\n",
        "\n",
        "result = forward_chaining(facts, rules)\n",
        "print(\"Inferred facts:\", result)"
      ],
      "metadata": {
        "colab": {
          "base_uri": "https://localhost:8080/"
        },
        "id": "QypqgcqPyQBq",
        "outputId": "5bd89230-1ffa-4ef1-832d-5fc47e5afea1"
      },
      "execution_count": null,
      "outputs": [
        {
          "output_type": "stream",
          "name": "stdout",
          "text": [
            "Inferred facts: {'is_mobil', 'has_four_wheels', 'has_wheels', 'is_vehicle', 'has_engine'}\n"
          ]
        }
      ]
    },
    {
      "cell_type": "code",
      "source": [
        "def backward_chaining(goal, facts, rules):\n",
        "  if goal in facts:\n",
        "    return True\n",
        "  for rule in rules:\n",
        "    if rule[\"then\"]==goal:\n",
        "      # Check if all conditions in the rule are provable using recursion,\n",
        "      # but make sure to pass the condition (cond) as the new goal\n",
        "      # in the recursive calls and check against the facts.\n",
        "      if all(backward_chaining(cond, facts, rules) for cond in rule[\"if\"]):\n",
        "        return True\n",
        "  return False\n",
        "\n",
        "facts = {\"has_feather\", \"has_small_wings\"}\n",
        "rules = [\n",
        "      {\"if\": {\"has_feather\"}, \"then\": \"bird\"},\n",
        "      {\"if\": {\"has_small_wings\"}, \"then\": \"cant_fly\"},\n",
        "      {\"if\": {\"bird\", \"cant_fly\"}, \"then\": \"pinguin\"},\n",
        "  ]\n",
        "goal = \"pinguin\"\n",
        "result = backward_chaining(goal, facts, rules)\n",
        "print(f\"is'{goal}'provable? ->\",result)"
      ],
      "metadata": {
        "colab": {
          "base_uri": "https://localhost:8080/"
        },
        "id": "DyHySWTu0q6h",
        "outputId": "1d580602-b84e-4954-ece6-f90124be63bc"
      },
      "execution_count": null,
      "outputs": [
        {
          "output_type": "stream",
          "name": "stdout",
          "text": [
            "is'pinguin'provable? -> True\n"
          ]
        }
      ]
    }
  ]
}