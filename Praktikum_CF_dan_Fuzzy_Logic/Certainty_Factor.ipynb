{
  "nbformat": 4,
  "nbformat_minor": 0,
  "metadata": {
    "colab": {
      "provenance": []
    },
    "kernelspec": {
      "name": "python3",
      "display_name": "Python 3"
    },
    "language_info": {
      "name": "python"
    }
  },
  "cells": [
    {
      "cell_type": "code",
      "execution_count": 6,
      "metadata": {
        "colab": {
          "base_uri": "https://localhost:8080/"
        },
        "id": "VmVY5OuW0eGQ",
        "outputId": "90b8f4ec-3671-4b7c-da3c-ba43cdce26ae"
      },
      "outputs": [
        {
          "output_type": "stream",
          "name": "stdout",
          "text": [
            "cf diagnosis flu: 0.98\n"
          ]
        }
      ],
      "source": [
        "gejala_user = {\n",
        "    \"demam\": 0.7,\n",
        "    \"batuk\": 0.5,\n",
        "    \"sakit_tenggorokan\": 0.6,\n",
        "    \"pilek\": 0.8,\n",
        "    \"sakit_kepala\": 0.5,\n",
        "    \"lelah\": 0.6,\n",
        "    \"nyeri_otot\": 0.4,\n",
        "    \"bersin\": 0.7\n",
        "}\n",
        "\n",
        "pengetahuan = {\n",
        "    \"flu\": {\n",
        "        \"demam\": 0.8,\n",
        "        \"batuk\": 0.7,\n",
        "        \"sakit_tenggorokan\": 0.6,\n",
        "        \"pilek\": 0.7,\n",
        "        \"sakit_kepala\": 0.6,\n",
        "        \"lelah\": 0.5,\n",
        "        \"nyeri_otot\": 0.4,\n",
        "        \"bersin\": 0.5\n",
        "    }\n",
        "}\n",
        "\n",
        "def hitung_cf(gejala_user,pengetahuan_pakar):\n",
        "  cf_total = 0\n",
        "  first = True\n",
        "  for gejala, cf_user in gejala_user.items():\n",
        "    if gejala in pengetahuan_pakar:\n",
        "      cf_pakar = pengetahuan_pakar[gejala]\n",
        "      cf = cf_user * cf_pakar\n",
        "      if first:\n",
        "        cf_total = cf\n",
        "        first = False\n",
        "      else:\n",
        "        cf_total = cf_total + cf * (1 - cf_total)\n",
        "  return cf_total\n",
        "cf_flu = hitung_cf(gejala_user,pengetahuan[\"flu\"])\n",
        "print(f\"cf diagnosis flu: {cf_flu:.2f}\")"
      ]
    },
    {
      "cell_type": "markdown",
      "source": [
        "kode diatas adalah kode yang demam nya belum di ubah ke 0.2"
      ],
      "metadata": {
        "id": "GZTIgcGO2WVT"
      }
    },
    {
      "cell_type": "code",
      "execution_count": 8,
      "metadata": {
        "colab": {
          "base_uri": "https://localhost:8080/"
        },
        "id": "tcOI7Zraq0r6",
        "outputId": "ea3a6523-81f8-4da3-ccdc-61135383a7c9"
      },
      "outputs": [
        {
          "output_type": "stream",
          "name": "stdout",
          "text": [
            "cf diagnosis flu: 0.96\n"
          ]
        }
      ],
      "source": [
        "gejala_user = {\n",
        "    \"demam\": 0.2,\n",
        "    \"batuk\": 0.5,\n",
        "    \"sakit_tenggorokan\": 0.6,\n",
        "    \"pilek\": 0.8,\n",
        "    \"sakit_kepala\": 0.5,\n",
        "    \"lelah\": 0.6,\n",
        "    \"nyeri_otot\": 0.4,\n",
        "    \"bersin\": 0.7\n",
        "}\n",
        "\n",
        "pengetahuan = {\n",
        "    \"flu\": {\n",
        "        \"demam\": 0.8,\n",
        "        \"batuk\": 0.7,\n",
        "        \"sakit_tenggorokan\": 0.6,\n",
        "        \"pilek\": 0.7,\n",
        "        \"sakit_kepala\": 0.6,\n",
        "        \"lelah\": 0.5,\n",
        "        \"nyeri_otot\": 0.4,\n",
        "        \"bersin\": 0.5\n",
        "    }\n",
        "}\n",
        "\n",
        "def hitung_cf(gejala_user,pengetahuan_pakar):\n",
        "  cf_total = 0\n",
        "  first = True\n",
        "  for gejala, cf_user in gejala_user.items():\n",
        "    if gejala in pengetahuan_pakar:\n",
        "      cf_pakar = pengetahuan_pakar[gejala]\n",
        "      cf = cf_user * cf_pakar\n",
        "      if first:\n",
        "        cf_total = cf\n",
        "        first = False\n",
        "      else:\n",
        "        cf_total = cf_total + cf * (1 - cf_total)\n",
        "  return cf_total\n",
        "cf_flu = hitung_cf(gejala_user,pengetahuan[\"flu\"])\n",
        "print(f\"cf diagnosis flu: {cf_flu:.2f}\")"
      ]
    },
    {
      "cell_type": "markdown",
      "source": [
        "kode diatas adalah kode yang demam nya telah di ubah ke 0.2\n",
        "jika demam nya di ubah maka hasil cf nya adalah 0.96 karena nilai gejala pertama (dalam urutan) sangat mempengaruhi cf_total awal.\n",
        "Nilai setelahnya makin teredam karena faktor (1 - cf_total_sementara).\n",
        "Jadi kalau nilai awal rendah, seluruh hasil akhirnya jadi lebih rendah."
      ],
      "metadata": {
        "id": "sLIGdLUA2y-L"
      }
    }
  ]
}